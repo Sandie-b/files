{
 "cells": [
  {
   "cell_type": "markdown",
   "id": "c7d20cd9-91a5-4a1d-8538-8c8a3ce890ea",
   "metadata": {},
   "source": [
    " # Data Science Tools and Ecosystem"
   ]
  },
  {
   "cell_type": "markdown",
   "id": "41d1292a-27c9-44e5-af95-dbe47b01fc4a",
   "metadata": {},
   "source": [
    "In this notebook, Data Science Tools and Ecosystem are summarized"
   ]
  },
  {
   "cell_type": "markdown",
   "id": "b88122c5-6fda-4168-93b8-934ab5f08622",
   "metadata": {},
   "source": [
    "**Objectives:**\n",
    "* List popular languages for Data Science\n",
    "* List of commonly used libraries for Data Science\n",
    "* A table with some os the development environment open sourse tools for Data Science\n",
    "* And few examples of evaluating arithmetic expressions in Python\n"
   ]
  },
  {
   "cell_type": "markdown",
   "id": "d0644c9c-dbbd-4b8b-b759-5e6995a51838",
   "metadata": {},
   "source": [
    "Some of the popular <span style=\"color:green;\">**languages**</span> that Data Scientists use are:\n",
    "1. Python\n",
    "2. R\n",
    "3. SQL\n",
    "4. Java\n",
    "5. Julia\n",
    "6. Scala\n",
    "7. C++\n",
    "8. JavaScript"
   ]
  },
  {
   "cell_type": "markdown",
   "id": "44d70a1b-f6cf-40b2-a988-a3d9b224b705",
   "metadata": {},
   "source": [
    "Some of the commonly used <span style=\"color:green;\">**libraries**</span> used by Data Scientists include:\n",
    "1. **Scientifics Computing, such as:**\n",
    "    * Pandas\n",
    "    * Numby\n",
    "2. **Visualization, as:**\n",
    "    * Matplotlib\n",
    "    * Seaborn\n",
    "3. **Machine Learning:**\n",
    "    * Scikit-learn\n",
    "    * Keras\n",
    "4. **Deep Learning:**\n",
    "   * TensorFLow\n",
    "   * PyTorch\n",
    "\n",
    "*(This libraries are used for Python)*"
   ]
  },
  {
   "cell_type": "markdown",
   "id": "30b938b4-d9c6-45fb-a37a-324df8502b3c",
   "metadata": {},
   "source": [
    "Some of the commonly used <span style=\"color:green;\">**development environment open source tools**</span>, are:\n",
    "\n",
    "| Data Science Tools | \n",
    "|----------|\n",
    "| RStudio   | \n",
    "| Apache Zeppelin | \n",
    "|Jupyter |"
   ]
  },
  {
   "cell_type": "markdown",
   "id": "34e3fbfb-59bf-472d-af17-7b42ea40fadf",
   "metadata": {},
   "source": [
    "### Below are a few examples of evaluating arithmetic expressions in Python\n",
    "\n",
    "* Highest: Exponentiation (^)\n",
    "\n",
    "* Next highest: Multiplication (*) and division (/)\n",
    "\n",
    "* Lowest: Addition (+) and Subtraction (-) "
   ]
  },
  {
   "cell_type": "code",
   "execution_count": 23,
   "id": "13d2085b-f192-47e4-ba64-91b1e3c1d8fd",
   "metadata": {},
   "outputs": [
    {
     "data": {
      "text/plain": [
       "17"
      ]
     },
     "execution_count": 23,
     "metadata": {},
     "output_type": "execute_result"
    }
   ],
   "source": [
    "# This a simple arithmetic expression to mutiply then add integers:\n",
    "\n",
    "(3*4)+5 "
   ]
  },
  {
   "cell_type": "code",
   "execution_count": 24,
   "id": "357f2aa2-c375-4942-a7c6-f89149f6f173",
   "metadata": {},
   "outputs": [
    {
     "name": "stdout",
     "output_type": "stream",
     "text": [
      "200 minutes are 3 hours and 20 minutes\n"
     ]
    }
   ],
   "source": [
    "# This will convert 200 minutes to hours by diving by 60\n",
    "# 200 minutes\n",
    "# hours?\n",
    "Min = 200\n",
    "hour = int(Min/60)\n",
    "rest = Min - hour*60\n",
    "print (\"200 minutes are\", hour,\"hours and\", rest, \"minutes\")"
   ]
  },
  {
   "cell_type": "markdown",
   "id": "5fb78732-bb6c-4db0-b061-ed9289d9a493",
   "metadata": {},
   "source": [
    "## Author\n",
    "Sandra P"
   ]
  }
 ],
 "metadata": {
  "kernelspec": {
   "display_name": "Python 3 (ipykernel)",
   "language": "python",
   "name": "python3"
  },
  "language_info": {
   "codemirror_mode": {
    "name": "ipython",
    "version": 3
   },
   "file_extension": ".py",
   "mimetype": "text/x-python",
   "name": "python",
   "nbconvert_exporter": "python",
   "pygments_lexer": "ipython3",
   "version": "3.12.5"
  }
 },
 "nbformat": 4,
 "nbformat_minor": 5
}
